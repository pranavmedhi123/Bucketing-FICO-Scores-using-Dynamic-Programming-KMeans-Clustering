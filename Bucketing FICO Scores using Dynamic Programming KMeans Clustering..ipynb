{
 "cells": [
  {
   "cell_type": "markdown",
   "id": "accd7c98",
   "metadata": {},
   "source": [
    "# Bucketing FICO Scores using Dynamic Programming/ KMeans Clustering.\n",
    "\n",
    "1. We are given a loan dataset with 10k records, with details regarding customers' fico scores, among other details.\n",
    "2. Goal is to create a function that will dynamically assign fico scores to buckets in such a way that the buckets best summarize the data while also mapping the buckets(boundaries) to ratings where lower rating denotes better fico score."
   ]
  },
  {
   "cell_type": "code",
   "execution_count": 20,
   "id": "221bd587",
   "metadata": {},
   "outputs": [],
   "source": [
    "import pandas as pd\n",
    "import numpy as np\n",
    "\n",
    "df=pd.read_csv(\"Task 3 and 4_Loan_Data.csv\")"
   ]
  },
  {
   "cell_type": "code",
   "execution_count": 21,
   "id": "1d678456",
   "metadata": {},
   "outputs": [
    {
     "data": {
      "text/html": [
       "<div>\n",
       "<style scoped>\n",
       "    .dataframe tbody tr th:only-of-type {\n",
       "        vertical-align: middle;\n",
       "    }\n",
       "\n",
       "    .dataframe tbody tr th {\n",
       "        vertical-align: top;\n",
       "    }\n",
       "\n",
       "    .dataframe thead th {\n",
       "        text-align: right;\n",
       "    }\n",
       "</style>\n",
       "<table border=\"1\" class=\"dataframe\">\n",
       "  <thead>\n",
       "    <tr style=\"text-align: right;\">\n",
       "      <th></th>\n",
       "      <th>customer_id</th>\n",
       "      <th>credit_lines_outstanding</th>\n",
       "      <th>loan_amt_outstanding</th>\n",
       "      <th>total_debt_outstanding</th>\n",
       "      <th>income</th>\n",
       "      <th>years_employed</th>\n",
       "      <th>fico_score</th>\n",
       "      <th>default</th>\n",
       "    </tr>\n",
       "  </thead>\n",
       "  <tbody>\n",
       "    <tr>\n",
       "      <th>0</th>\n",
       "      <td>8153374</td>\n",
       "      <td>0</td>\n",
       "      <td>5221.545193</td>\n",
       "      <td>3915.471226</td>\n",
       "      <td>78039.38546</td>\n",
       "      <td>5</td>\n",
       "      <td>605</td>\n",
       "      <td>0</td>\n",
       "    </tr>\n",
       "    <tr>\n",
       "      <th>1</th>\n",
       "      <td>7442532</td>\n",
       "      <td>5</td>\n",
       "      <td>1958.928726</td>\n",
       "      <td>8228.752520</td>\n",
       "      <td>26648.43525</td>\n",
       "      <td>2</td>\n",
       "      <td>572</td>\n",
       "      <td>1</td>\n",
       "    </tr>\n",
       "    <tr>\n",
       "      <th>2</th>\n",
       "      <td>2256073</td>\n",
       "      <td>0</td>\n",
       "      <td>3363.009259</td>\n",
       "      <td>2027.830850</td>\n",
       "      <td>65866.71246</td>\n",
       "      <td>4</td>\n",
       "      <td>602</td>\n",
       "      <td>0</td>\n",
       "    </tr>\n",
       "    <tr>\n",
       "      <th>3</th>\n",
       "      <td>4885975</td>\n",
       "      <td>0</td>\n",
       "      <td>4766.648001</td>\n",
       "      <td>2501.730397</td>\n",
       "      <td>74356.88347</td>\n",
       "      <td>5</td>\n",
       "      <td>612</td>\n",
       "      <td>0</td>\n",
       "    </tr>\n",
       "    <tr>\n",
       "      <th>4</th>\n",
       "      <td>4700614</td>\n",
       "      <td>1</td>\n",
       "      <td>1345.827718</td>\n",
       "      <td>1768.826187</td>\n",
       "      <td>23448.32631</td>\n",
       "      <td>6</td>\n",
       "      <td>631</td>\n",
       "      <td>0</td>\n",
       "    </tr>\n",
       "  </tbody>\n",
       "</table>\n",
       "</div>"
      ],
      "text/plain": [
       "   customer_id  credit_lines_outstanding  loan_amt_outstanding  \\\n",
       "0      8153374                         0           5221.545193   \n",
       "1      7442532                         5           1958.928726   \n",
       "2      2256073                         0           3363.009259   \n",
       "3      4885975                         0           4766.648001   \n",
       "4      4700614                         1           1345.827718   \n",
       "\n",
       "   total_debt_outstanding       income  years_employed  fico_score  default  \n",
       "0             3915.471226  78039.38546               5         605        0  \n",
       "1             8228.752520  26648.43525               2         572        1  \n",
       "2             2027.830850  65866.71246               4         602        0  \n",
       "3             2501.730397  74356.88347               5         612        0  \n",
       "4             1768.826187  23448.32631               6         631        0  "
      ]
     },
     "execution_count": 21,
     "metadata": {},
     "output_type": "execute_result"
    }
   ],
   "source": [
    "df.head()"
   ]
  },
  {
   "cell_type": "code",
   "execution_count": 22,
   "id": "f2dbf7f2",
   "metadata": {},
   "outputs": [
    {
     "data": {
      "text/plain": [
       "374"
      ]
     },
     "execution_count": 22,
     "metadata": {},
     "output_type": "execute_result"
    }
   ],
   "source": [
    "df.fico_score.nunique()"
   ]
  },
  {
   "cell_type": "code",
   "execution_count": 23,
   "id": "e7d1e113",
   "metadata": {},
   "outputs": [
    {
     "data": {
      "text/plain": [
       "626    82\n",
       "653    79\n",
       "639    77\n",
       "620    76\n",
       "636    75\n",
       "       ..\n",
       "823     1\n",
       "804     1\n",
       "477     1\n",
       "473     1\n",
       "794     1\n",
       "Name: fico_score, Length: 374, dtype: int64"
      ]
     },
     "execution_count": 23,
     "metadata": {},
     "output_type": "execute_result"
    }
   ],
   "source": [
    "df.fico_score.value_counts()"
   ]
  },
  {
   "cell_type": "code",
   "execution_count": 25,
   "id": "43fbb50d",
   "metadata": {},
   "outputs": [],
   "source": [
    "fico_scores=df.fico_score.to_numpy()"
   ]
  },
  {
   "cell_type": "code",
   "execution_count": 26,
   "id": "a1118ef8",
   "metadata": {},
   "outputs": [
    {
     "data": {
      "text/plain": [
       "array([605, 572, 602, ..., 596, 647, 757], dtype=int64)"
      ]
     },
     "execution_count": 26,
     "metadata": {},
     "output_type": "execute_result"
    }
   ],
   "source": [
    "fico_scores"
   ]
  },
  {
   "cell_type": "markdown",
   "id": "30e7d17b",
   "metadata": {},
   "source": [
    "#### Pseudo Code\n",
    "\n",
    "1. Initially defining a certain number of buckets, with equal boundary widths or intervals.\n",
    "2. Assigning FICO scores to buckets and calculating MSE for FICO scores inside each bucket.\n",
    "3. Keep Iteratively optimizing the boundaries until they stop moving significantly."
   ]
  },
  {
   "cell_type": "code",
   "execution_count": 53,
   "id": "c4bc264a",
   "metadata": {},
   "outputs": [
    {
     "name": "stdout",
     "output_type": "stream",
     "text": [
      "Rating Map: {'300.0 - 837.0': 3, '837.0 - 838.0': 2, '838.0 - 849.0': 1}\n"
     ]
    }
   ],
   "source": [
    "#!! Runs for 15-20minutes+ for 10k records and higher. Complexity O(n^3 * k)\n",
    "\n",
    "def calculate_mse(bucket):\n",
    "    \"\"\"Calculate the Mean Squared Error for a given bucket of scores.\"\"\"\n",
    "    if len(bucket) == 0:\n",
    "        return 0\n",
    "    mean = np.mean(bucket)\n",
    "    return np.sum((bucket - mean) ** 2)\n",
    "\n",
    "def quantize_fico_scores_dp(fico_scores, num_buckets):\n",
    "    fico_scores = np.sort(fico_scores)\n",
    "    n = len(fico_scores)\n",
    "\n",
    "    # DP table: dp[i][j] is the minimum MSE for the first i scores with j buckets\n",
    "    dp = np.zeros((n + 1, num_buckets + 1))\n",
    "    cut = np.zeros((n + 1, num_buckets + 1), dtype=int)  # To store cut points\n",
    "\n",
    "    # Fill the DP table\n",
    "    for j in range(1, num_buckets + 1):\n",
    "        for i in range(1, n + 1):\n",
    "            dp[i][j] = float('inf')\n",
    "            for k in range(i):  # Consider all previous scores as potential cut points\n",
    "                mse = calculate_mse(fico_scores[k:i])\n",
    "                if dp[k][j - 1] + mse < dp[i][j]:\n",
    "                    dp[i][j] = dp[k][j - 1] + mse\n",
    "                    cut[i][j] = k\n",
    "\n",
    "    # Backtrack to find the boundaries\n",
    "    boundaries = []\n",
    "    i = n\n",
    "    for j in range(num_buckets, 0, -1):\n",
    "        boundaries.append(fico_scores[cut[i][j]:i].mean())\n",
    "        i = cut[i][j]\n",
    "\n",
    "    boundaries.reverse()  # Reverse to get boundaries in order\n",
    "    \n",
    "    # Append minimum and maximum values to form the full boundary range\n",
    "    boundaries = [fico_scores[0]] + boundaries + [fico_scores[-1]]\n",
    "\n",
    "    # Create rating map\n",
    "    rating_map = {}\n",
    "    for i in range(num_buckets):\n",
    "        rating_map[f\"{boundaries[i]:.1f} - {boundaries[i + 1]:.1f}\"] = num_buckets - i  # Lower rating is better\n",
    "\n",
    "    return rating_map\n",
    "\n",
    "# Example usage\n",
    "# fico_scores = np.random.randint(300, 850, size=100)  # Simulated FICO scores\n",
    "# fico_scores=df.fico_score.to_numpy()\n",
    "\n",
    "num_buckets = 3\n",
    "rating_map = quantize_fico_scores_dp(fico_scores, num_buckets)\n",
    "print(\"Rating Map:\", rating_map)\n"
   ]
  },
  {
   "cell_type": "markdown",
   "id": "ffbe3088",
   "metadata": {},
   "source": [
    "I tried executing the above Dynamic Programming approach but it results in long running times for 1000+ onwards fico score instances because of multiple loops being run even when we are storing the calculations in a memoization array for reducing redundant calculations. For 10k records the code runs for ~15min which is not feasible at all. The complexity for above code is O(n^3* k)"
   ]
  },
  {
   "cell_type": "markdown",
   "id": "20694051",
   "metadata": {},
   "source": [
    "Using below KMeans clustering approach yield almost instant result even with 100k+ records, the complexity for this approach is O(n). Also, KMeans clustering minimizes sum of squared distances between each buckets, which aligns with our goal of minimizing MSE (mean squared error)."
   ]
  },
  {
   "cell_type": "code",
   "execution_count": 51,
   "id": "a9b23745",
   "metadata": {},
   "outputs": [
    {
     "name": "stdout",
     "output_type": "stream",
     "text": [
      "Rating Map: {'408 - 558': 4, '558 - 611': 3, '611 - 658': 2, '658 - 709': 1, '709 - 850': 0}\n"
     ]
    }
   ],
   "source": [
    "import numpy as np\n",
    "from sklearn.cluster import KMeans\n",
    "\n",
    "def quantize_fico_scores_kmeans(fico_scores, num_buckets):\n",
    "    # Reshaping and sorting fico_scores to a 2D array because KMeans expects 2D data\n",
    "    fico_scores = np.sort(fico_scores).reshape(-1, 1)\n",
    "    \n",
    "    # Apply KMeans clustering\n",
    "    kmeans = KMeans(n_clusters=num_buckets, random_state=11)\n",
    "    kmeans.fit(fico_scores)\n",
    "    \n",
    "    # Get cluster centers (these are the optimal bucket boundaries)\n",
    "    centers = np.sort(kmeans.cluster_centers_.flatten())\n",
    "    \n",
    "    # Determining boundaries (midpoints between cluster centers)\n",
    "    boundaries = [(centers[i] + centers[i + 1]) / 2 for i in range(len(centers) - 1)]\n",
    "    boundaries = [fico_scores.min()] + boundaries + [fico_scores.max()]\n",
    "\n",
    "    # Create rating map: Assign lower ratings to better scores\n",
    "    rating_map = {}\n",
    "    for i in range(len(boundaries) - 1):\n",
    "        rating_map[f\"{boundaries[i]:.0f} - {boundaries[i + 1]:.0f}\"] = len(boundaries) - 2 - i #(using integers for boundaries)\n",
    "\n",
    "    return rating_map\n",
    "\n",
    "# Example input\n",
    "# fico_scores = np.random.randint(300, 850, size=1000000)  # Simulated FICO scores\n",
    "fico_scores=df.fico_score.to_numpy()\n",
    "num_buckets = 5\n",
    "rating_map = quantize_fico_scores_kmeans(fico_scores, num_buckets)\n",
    "print(\"Rating Map:\", rating_map)\n"
   ]
  },
  {
   "cell_type": "markdown",
   "id": "ddd06959",
   "metadata": {},
   "source": [
    "### Conclusion\n",
    "\n",
    "1. Dynamic programming approach to minimize MSE in buckets lead to a complexity of O(n^3.k)(n being number of fico_scores, k is the number of buckets).\n",
    "2. KMeans Clustering approach proved to be far more efficient and ran in O(n) complexity.\n",
    "3. One other method that could be adopted is a mix of Greedy+Dynamic Programming approach. But it leads to complexity of O(n^2* k) as we have to precompute the subarray calculations before hand in a memoization array which in itself costs O(n^2), while the greedy algorithm will then semi-accurately give out best boundaries in a single pass costing O(n)"
   ]
  },
  {
   "cell_type": "code",
   "execution_count": null,
   "id": "37fa873f",
   "metadata": {},
   "outputs": [],
   "source": []
  },
  {
   "cell_type": "code",
   "execution_count": null,
   "id": "fe3e777d",
   "metadata": {},
   "outputs": [],
   "source": []
  }
 ],
 "metadata": {
  "kernelspec": {
   "display_name": "Python 3 (ipykernel)",
   "language": "python",
   "name": "python3"
  },
  "language_info": {
   "codemirror_mode": {
    "name": "ipython",
    "version": 3
   },
   "file_extension": ".py",
   "mimetype": "text/x-python",
   "name": "python",
   "nbconvert_exporter": "python",
   "pygments_lexer": "ipython3",
   "version": "3.9.12"
  }
 },
 "nbformat": 4,
 "nbformat_minor": 5
}
